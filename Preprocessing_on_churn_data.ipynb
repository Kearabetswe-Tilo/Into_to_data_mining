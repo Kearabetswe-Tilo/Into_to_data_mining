{
 "cells": [
  {
   "cell_type": "code",
   "execution_count": 2,
   "metadata": {},
   "outputs": [],
   "source": [
    "import pandas as pd\n",
    "import numpy as np"
   ]
  },
  {
   "cell_type": "code",
   "execution_count": 3,
   "metadata": {},
   "outputs": [],
   "source": [
    "mydata = pd.read_csv(r\"C:\\Users\\Keara\\Downloads\\Intro_Data_Mining\\practise_data.csv\" , sep = ',')"
   ]
  },
  {
   "cell_type": "code",
   "execution_count": 4,
   "metadata": {},
   "outputs": [
    {
     "data": {
      "text/html": [
       "<div>\n",
       "<style scoped>\n",
       "    .dataframe tbody tr th:only-of-type {\n",
       "        vertical-align: middle;\n",
       "    }\n",
       "\n",
       "    .dataframe tbody tr th {\n",
       "        vertical-align: top;\n",
       "    }\n",
       "\n",
       "    .dataframe thead th {\n",
       "        text-align: right;\n",
       "    }\n",
       "</style>\n",
       "<table border=\"1\" class=\"dataframe\">\n",
       "  <thead>\n",
       "    <tr style=\"text-align: right;\">\n",
       "      <th></th>\n",
       "      <th>Customer_ID</th>\n",
       "      <th>rev_Mean</th>\n",
       "      <th>mou_Mean</th>\n",
       "      <th>uniqsubs</th>\n",
       "      <th>ethnic</th>\n",
       "      <th>creditcd</th>\n",
       "      <th>churn</th>\n",
       "    </tr>\n",
       "  </thead>\n",
       "  <tbody>\n",
       "    <tr>\n",
       "      <th>0</th>\n",
       "      <td>1000001</td>\n",
       "      <td>23.9975</td>\n",
       "      <td>219.25</td>\n",
       "      <td>2</td>\n",
       "      <td>N</td>\n",
       "      <td>Y</td>\n",
       "      <td>1</td>\n",
       "    </tr>\n",
       "    <tr>\n",
       "      <th>1</th>\n",
       "      <td>1000002</td>\n",
       "      <td>57.4925</td>\n",
       "      <td>482.75</td>\n",
       "      <td>1</td>\n",
       "      <td>Z</td>\n",
       "      <td>Y</td>\n",
       "      <td>0</td>\n",
       "    </tr>\n",
       "    <tr>\n",
       "      <th>2</th>\n",
       "      <td>1000003</td>\n",
       "      <td>16.9900</td>\n",
       "      <td>10.25</td>\n",
       "      <td>1</td>\n",
       "      <td>N</td>\n",
       "      <td>Y</td>\n",
       "      <td>1</td>\n",
       "    </tr>\n",
       "    <tr>\n",
       "      <th>3</th>\n",
       "      <td>1000004</td>\n",
       "      <td>38.0000</td>\n",
       "      <td>7.50</td>\n",
       "      <td>1</td>\n",
       "      <td>U</td>\n",
       "      <td>Y</td>\n",
       "      <td>0</td>\n",
       "    </tr>\n",
       "    <tr>\n",
       "      <th>4</th>\n",
       "      <td>1000005</td>\n",
       "      <td>55.2300</td>\n",
       "      <td>570.50</td>\n",
       "      <td>1</td>\n",
       "      <td>I</td>\n",
       "      <td>Y</td>\n",
       "      <td>0</td>\n",
       "    </tr>\n",
       "    <tr>\n",
       "      <th>5</th>\n",
       "      <td>1000006</td>\n",
       "      <td>82.2750</td>\n",
       "      <td>1312.25</td>\n",
       "      <td>2</td>\n",
       "      <td>U</td>\n",
       "      <td>Y</td>\n",
       "      <td>0</td>\n",
       "    </tr>\n",
       "    <tr>\n",
       "      <th>6</th>\n",
       "      <td>1000007</td>\n",
       "      <td>17.1450</td>\n",
       "      <td>0.00</td>\n",
       "      <td>2</td>\n",
       "      <td>N</td>\n",
       "      <td>Y</td>\n",
       "      <td>1</td>\n",
       "    </tr>\n",
       "    <tr>\n",
       "      <th>7</th>\n",
       "      <td>1000008</td>\n",
       "      <td>38.0525</td>\n",
       "      <td>682.50</td>\n",
       "      <td>1</td>\n",
       "      <td>S</td>\n",
       "      <td>Y</td>\n",
       "      <td>0</td>\n",
       "    </tr>\n",
       "    <tr>\n",
       "      <th>8</th>\n",
       "      <td>1000009</td>\n",
       "      <td>97.3375</td>\n",
       "      <td>1039.00</td>\n",
       "      <td>1</td>\n",
       "      <td>F</td>\n",
       "      <td>N</td>\n",
       "      <td>0</td>\n",
       "    </tr>\n",
       "    <tr>\n",
       "      <th>9</th>\n",
       "      <td>1000010</td>\n",
       "      <td>31.6625</td>\n",
       "      <td>25.50</td>\n",
       "      <td>2</td>\n",
       "      <td>N</td>\n",
       "      <td>Y</td>\n",
       "      <td>0</td>\n",
       "    </tr>\n",
       "    <tr>\n",
       "      <th>10</th>\n",
       "      <td>1000011</td>\n",
       "      <td>62.1275</td>\n",
       "      <td>97.50</td>\n",
       "      <td>2</td>\n",
       "      <td>N</td>\n",
       "      <td>Y</td>\n",
       "      <td>0</td>\n",
       "    </tr>\n",
       "    <tr>\n",
       "      <th>11</th>\n",
       "      <td>1000012</td>\n",
       "      <td>35.2950</td>\n",
       "      <td>24.25</td>\n",
       "      <td>3</td>\n",
       "      <td>N</td>\n",
       "      <td>Y</td>\n",
       "      <td>0</td>\n",
       "    </tr>\n",
       "    <tr>\n",
       "      <th>12</th>\n",
       "      <td>1000013</td>\n",
       "      <td>81.0000</td>\n",
       "      <td>1056.25</td>\n",
       "      <td>1</td>\n",
       "      <td>J</td>\n",
       "      <td>Y</td>\n",
       "      <td>0</td>\n",
       "    </tr>\n",
       "    <tr>\n",
       "      <th>13</th>\n",
       "      <td>1000014</td>\n",
       "      <td>25.2250</td>\n",
       "      <td>2.50</td>\n",
       "      <td>2</td>\n",
       "      <td>N</td>\n",
       "      <td>N</td>\n",
       "      <td>0</td>\n",
       "    </tr>\n",
       "    <tr>\n",
       "      <th>14</th>\n",
       "      <td>1000015</td>\n",
       "      <td>212.5150</td>\n",
       "      <td>1971.50</td>\n",
       "      <td>5</td>\n",
       "      <td>N</td>\n",
       "      <td>Y</td>\n",
       "      <td>0</td>\n",
       "    </tr>\n",
       "    <tr>\n",
       "      <th>15</th>\n",
       "      <td>1000016</td>\n",
       "      <td>42.5650</td>\n",
       "      <td>270.50</td>\n",
       "      <td>2</td>\n",
       "      <td>N</td>\n",
       "      <td>Y</td>\n",
       "      <td>0</td>\n",
       "    </tr>\n",
       "    <tr>\n",
       "      <th>16</th>\n",
       "      <td>1000017</td>\n",
       "      <td>63.0175</td>\n",
       "      <td>440.25</td>\n",
       "      <td>1</td>\n",
       "      <td>N</td>\n",
       "      <td>Y</td>\n",
       "      <td>0</td>\n",
       "    </tr>\n",
       "    <tr>\n",
       "      <th>17</th>\n",
       "      <td>1000018</td>\n",
       "      <td>35.5900</td>\n",
       "      <td>153.00</td>\n",
       "      <td>3</td>\n",
       "      <td>N</td>\n",
       "      <td>Y</td>\n",
       "      <td>0</td>\n",
       "    </tr>\n",
       "    <tr>\n",
       "      <th>18</th>\n",
       "      <td>1000019</td>\n",
       "      <td>55.2700</td>\n",
       "      <td>1212.75</td>\n",
       "      <td>1</td>\n",
       "      <td>N</td>\n",
       "      <td>Y</td>\n",
       "      <td>0</td>\n",
       "    </tr>\n",
       "    <tr>\n",
       "      <th>19</th>\n",
       "      <td>1000020</td>\n",
       "      <td>50.9650</td>\n",
       "      <td>162.00</td>\n",
       "      <td>1</td>\n",
       "      <td>S</td>\n",
       "      <td>N</td>\n",
       "      <td>0</td>\n",
       "    </tr>\n",
       "  </tbody>\n",
       "</table>\n",
       "</div>"
      ],
      "text/plain": [
       "    Customer_ID  rev_Mean  mou_Mean  uniqsubs ethnic creditcd  churn\n",
       "0       1000001   23.9975    219.25         2      N        Y      1\n",
       "1       1000002   57.4925    482.75         1      Z        Y      0\n",
       "2       1000003   16.9900     10.25         1      N        Y      1\n",
       "3       1000004   38.0000      7.50         1      U        Y      0\n",
       "4       1000005   55.2300    570.50         1      I        Y      0\n",
       "5       1000006   82.2750   1312.25         2      U        Y      0\n",
       "6       1000007   17.1450      0.00         2      N        Y      1\n",
       "7       1000008   38.0525    682.50         1      S        Y      0\n",
       "8       1000009   97.3375   1039.00         1      F        N      0\n",
       "9       1000010   31.6625     25.50         2      N        Y      0\n",
       "10      1000011   62.1275     97.50         2      N        Y      0\n",
       "11      1000012   35.2950     24.25         3      N        Y      0\n",
       "12      1000013   81.0000   1056.25         1      J        Y      0\n",
       "13      1000014   25.2250      2.50         2      N        N      0\n",
       "14      1000015  212.5150   1971.50         5      N        Y      0\n",
       "15      1000016   42.5650    270.50         2      N        Y      0\n",
       "16      1000017   63.0175    440.25         1      N        Y      0\n",
       "17      1000018   35.5900    153.00         3      N        Y      0\n",
       "18      1000019   55.2700   1212.75         1      N        Y      0\n",
       "19      1000020   50.9650    162.00         1      S        N      0"
      ]
     },
     "execution_count": 4,
     "metadata": {},
     "output_type": "execute_result"
    }
   ],
   "source": [
    "mydata.head(20)"
   ]
  },
  {
   "cell_type": "code",
   "execution_count": 5,
   "metadata": {},
   "outputs": [
    {
     "name": "stdout",
     "output_type": "stream",
     "text": [
      "<class 'pandas.core.frame.DataFrame'>\n",
      "RangeIndex: 1000 entries, 0 to 999\n",
      "Data columns (total 7 columns):\n",
      " #   Column       Non-Null Count  Dtype  \n",
      "---  ------       --------------  -----  \n",
      " 0   Customer_ID  1000 non-null   int64  \n",
      " 1   rev_Mean     997 non-null    float64\n",
      " 2   mou_Mean     997 non-null    float64\n",
      " 3   uniqsubs     1000 non-null   int64  \n",
      " 4   ethnic       979 non-null    object \n",
      " 5   creditcd     979 non-null    object \n",
      " 6   churn        1000 non-null   int64  \n",
      "dtypes: float64(2), int64(3), object(2)\n",
      "memory usage: 54.8+ KB\n"
     ]
    }
   ],
   "source": [
    "mydata.info()"
   ]
  },
  {
   "cell_type": "code",
   "execution_count": 6,
   "metadata": {},
   "outputs": [],
   "source": [
    "#dropping first column\n",
    "df = mydata.drop([\"Customer_ID\"], axis = 1)"
   ]
  },
  {
   "cell_type": "code",
   "execution_count": 7,
   "metadata": {},
   "outputs": [
    {
     "data": {
      "text/html": [
       "<div>\n",
       "<style scoped>\n",
       "    .dataframe tbody tr th:only-of-type {\n",
       "        vertical-align: middle;\n",
       "    }\n",
       "\n",
       "    .dataframe tbody tr th {\n",
       "        vertical-align: top;\n",
       "    }\n",
       "\n",
       "    .dataframe thead th {\n",
       "        text-align: right;\n",
       "    }\n",
       "</style>\n",
       "<table border=\"1\" class=\"dataframe\">\n",
       "  <thead>\n",
       "    <tr style=\"text-align: right;\">\n",
       "      <th></th>\n",
       "      <th>rev_Mean</th>\n",
       "      <th>mou_Mean</th>\n",
       "      <th>uniqsubs</th>\n",
       "      <th>ethnic</th>\n",
       "      <th>creditcd</th>\n",
       "      <th>churn</th>\n",
       "    </tr>\n",
       "  </thead>\n",
       "  <tbody>\n",
       "    <tr>\n",
       "      <th>0</th>\n",
       "      <td>23.9975</td>\n",
       "      <td>219.25</td>\n",
       "      <td>2</td>\n",
       "      <td>N</td>\n",
       "      <td>Y</td>\n",
       "      <td>1</td>\n",
       "    </tr>\n",
       "    <tr>\n",
       "      <th>1</th>\n",
       "      <td>57.4925</td>\n",
       "      <td>482.75</td>\n",
       "      <td>1</td>\n",
       "      <td>Z</td>\n",
       "      <td>Y</td>\n",
       "      <td>0</td>\n",
       "    </tr>\n",
       "    <tr>\n",
       "      <th>2</th>\n",
       "      <td>16.9900</td>\n",
       "      <td>10.25</td>\n",
       "      <td>1</td>\n",
       "      <td>N</td>\n",
       "      <td>Y</td>\n",
       "      <td>1</td>\n",
       "    </tr>\n",
       "    <tr>\n",
       "      <th>3</th>\n",
       "      <td>38.0000</td>\n",
       "      <td>7.50</td>\n",
       "      <td>1</td>\n",
       "      <td>U</td>\n",
       "      <td>Y</td>\n",
       "      <td>0</td>\n",
       "    </tr>\n",
       "    <tr>\n",
       "      <th>4</th>\n",
       "      <td>55.2300</td>\n",
       "      <td>570.50</td>\n",
       "      <td>1</td>\n",
       "      <td>I</td>\n",
       "      <td>Y</td>\n",
       "      <td>0</td>\n",
       "    </tr>\n",
       "  </tbody>\n",
       "</table>\n",
       "</div>"
      ],
      "text/plain": [
       "   rev_Mean  mou_Mean  uniqsubs ethnic creditcd  churn\n",
       "0   23.9975    219.25         2      N        Y      1\n",
       "1   57.4925    482.75         1      Z        Y      0\n",
       "2   16.9900     10.25         1      N        Y      1\n",
       "3   38.0000      7.50         1      U        Y      0\n",
       "4   55.2300    570.50         1      I        Y      0"
      ]
     },
     "execution_count": 7,
     "metadata": {},
     "output_type": "execute_result"
    }
   ],
   "source": [
    "df.head()"
   ]
  },
  {
   "cell_type": "code",
   "execution_count": 8,
   "metadata": {},
   "outputs": [],
   "source": [
    "#handling with missing values\n",
    "num_vars = list(df.loc[:, df.dtypes != 'object'].columns)   #getting the numerical columns"
   ]
  },
  {
   "cell_type": "code",
   "execution_count": 9,
   "metadata": {},
   "outputs": [
    {
     "data": {
      "text/plain": [
       "rev_Mean    3\n",
       "mou_Mean    3\n",
       "uniqsubs    0\n",
       "churn       0\n",
       "dtype: int64"
      ]
     },
     "execution_count": 9,
     "metadata": {},
     "output_type": "execute_result"
    }
   ],
   "source": [
    "df[num_vars].isnull().sum()"
   ]
  },
  {
   "cell_type": "code",
   "execution_count": 10,
   "metadata": {},
   "outputs": [
    {
     "data": {
      "text/plain": [
       "rev_Mean    0\n",
       "mou_Mean    0\n",
       "uniqsubs    0\n",
       "churn       0\n",
       "dtype: int64"
      ]
     },
     "execution_count": 10,
     "metadata": {},
     "output_type": "execute_result"
    }
   ],
   "source": [
    "for var in num_vars:\n",
    "    df[var] = df[var].fillna(df[var].median())\n",
    "\n",
    "df[num_vars].isnull().sum()"
   ]
  },
  {
   "cell_type": "code",
   "execution_count": 11,
   "metadata": {},
   "outputs": [
    {
     "data": {
      "text/plain": [
       "ethnic      21\n",
       "creditcd    21\n",
       "dtype: int64"
      ]
     },
     "execution_count": 11,
     "metadata": {},
     "output_type": "execute_result"
    }
   ],
   "source": [
    "cat_vars = list(df.loc[:, df.dtypes == 'object'].columns)\n",
    "df[cat_vars].isnull().sum()"
   ]
  },
  {
   "cell_type": "code",
   "execution_count": 12,
   "metadata": {},
   "outputs": [],
   "source": [
    "from sklearn.impute import SimpleImputer\n",
    "\n",
    "myimputer = SimpleImputer(missing_values = np.nan, \n",
    "                          strategy = 'most_frequent')\n",
    "\n",
    "myimputer = myimputer.fit(df[cat_vars])\n",
    "df[cat_vars] = myimputer.transform(df[cat_vars])"
   ]
  },
  {
   "cell_type": "code",
   "execution_count": 13,
   "metadata": {},
   "outputs": [
    {
     "data": {
      "text/plain": [
       "ethnic      0\n",
       "creditcd    0\n",
       "dtype: int64"
      ]
     },
     "execution_count": 13,
     "metadata": {},
     "output_type": "execute_result"
    }
   ],
   "source": [
    "df[cat_vars].isnull().sum()"
   ]
  },
  {
   "cell_type": "code",
   "execution_count": 14,
   "metadata": {},
   "outputs": [
    {
     "data": {
      "image/png": "[encoded data removed]",
      "text/plain": [
       "<Figure size 1440x360 with 1 Axes>"
      ]
     },
     "metadata": {
      "needs_background": "light"
     },
     "output_type": "display_data"
    },
    {
     "data": {
      "image/png": "[encoded data removed]",
      "text/plain": [
       "<Figure size 1440x360 with 1 Axes>"
      ]
     },
     "metadata": {
      "needs_background": "light"
     },
     "output_type": "display_data"
    }
   ],
   "source": [
    "#display the distrubution of cat variables with \n",
    "#respect to churn information\n",
    "for col in cat_vars:\n",
    "    df.groupby([col, 'churn']).size().unstack().plot(kind='bar', figsize=(20, 5))"
   ]
  },
  {
   "cell_type": "code",
   "execution_count": 15,
   "metadata": {},
   "outputs": [
    {
     "data": {
      "text/plain": [
       "array([<AxesSubplot:title={'center':'rev_Mean'}>,\n",
       "       <AxesSubplot:title={'center':'mou_Mean'}>,\n",
       "       <AxesSubplot:title={'center':'uniqsubs'}>], dtype=object)"
      ]
     },
     "execution_count": 15,
     "metadata": {},
     "output_type": "execute_result"
    },
    {
     "data": {
      "image/png": "[encoded data removed]",
      "text/plain": [
       "<Figure size 5040x2520 with 3 Axes>"
      ]
     },
     "metadata": {
      "needs_background": "light"
     },
     "output_type": "display_data"
    }
   ],
   "source": [
    "import matplotlib.pyplot as plt\n",
    "\n",
    "fig, ax = plt.subplots(1, 3, figsize=(70, 35))\n",
    "df[df['churn'] == 0][num_vars[0:-1]].hist(bins = 10, \n",
    "  color = \"blue\", ax=ax)\n",
    "df[df['churn'] == 1][num_vars[0:-1]].hist(bins = 10, \n",
    "  color = \"red\", ax=ax)"
   ]
  },
  {
   "cell_type": "code",
   "execution_count": 16,
   "metadata": {},
   "outputs": [
    {
     "name": "stdout",
     "output_type": "stream",
     "text": [
      "78.68520500007013\n",
      "58.59922620363399\n",
      "752.8255833336699\n",
      "786.0368670590509\n",
      "1.684\n",
      "1.051308351174502\n",
      "0.498\n",
      "0.500246185638879\n"
     ]
    }
   ],
   "source": [
    "#handling the extreme values (anomalies) in the dataset\n",
    "for n in num_vars:\n",
    "    print(df[n].mean())\n",
    "    print(df[n].std())\n",
    "    \n",
    "    outliers = df[df[n] > (df[n].mean() + 2*df[n].std())][n]\n",
    "    df.loc[outliers.index, n] = df[n].mean() + 2*df[n].std()"
   ]
  },
  {
   "cell_type": "code",
   "execution_count": 17,
   "metadata": {},
   "outputs": [
    {
     "data": {
      "text/plain": [
       "array([<AxesSubplot:title={'center':'rev_Mean'}>,\n",
       "       <AxesSubplot:title={'center':'mou_Mean'}>,\n",
       "       <AxesSubplot:title={'center':'uniqsubs'}>], dtype=object)"
      ]
     },
     "execution_count": 17,
     "metadata": {},
     "output_type": "execute_result"
    },
    {
     "data": {
      "image/png": "[encoded data removed]",
      "text/plain": [
       "<Figure size 5040x2520 with 3 Axes>"
      ]
     },
     "metadata": {
      "needs_background": "light"
     },
     "output_type": "display_data"
    }
   ],
   "source": [
    "fig, ax = plt.subplots(1, 3, figsize=(70, 35))\n",
    "df[df['churn'] == 0][num_vars[0:-1]].hist(bins = 10, \n",
    "  color = \"blue\", ax=ax)\n",
    "df[df['churn'] == 1][num_vars[0:-1]].hist(bins = 10, \n",
    "  color = \"red\", ax=ax)"
   ]
  },
  {
   "cell_type": "code",
   "execution_count": 18,
   "metadata": {},
   "outputs": [
    {
     "data": {
      "text/plain": [
       "churn       1.000000\n",
       "mou_Mean    0.183872\n",
       "rev_Mean    0.155921\n",
       "uniqsubs    0.016376\n",
       "Name: churn, dtype: float64"
      ]
     },
     "execution_count": 18,
     "metadata": {},
     "output_type": "execute_result"
    }
   ],
   "source": [
    "corrs = df.corr(method = 'spearman')['churn']\n",
    "\n",
    "abs(corrs).sort_values(ascending = False)"
   ]
  },
  {
   "cell_type": "code",
   "execution_count": 19,
   "metadata": {},
   "outputs": [],
   "source": [
    "from sklearn.preprocessing import StandardScaler\n",
    "\n",
    "myscaler = StandardScaler()\n",
    "myscaler = myscaler.fit(df[num_vars])\n",
    "df[num_vars] = myscaler.transform(df[num_vars])"
   ]
  },
  {
   "cell_type": "code",
   "execution_count": 20,
   "metadata": {},
   "outputs": [],
   "source": [
    "from sklearn.preprocessing import MinMaxScaler\n",
    "\n",
    "myscaler2 = MinMaxScaler()\n",
    "myscaler2 = myscaler2.fit(df[num_vars])\n",
    "df[num_vars] = myscaler2.transform(df[num_vars])"
   ]
  },
  {
   "cell_type": "code",
   "execution_count": 21,
   "metadata": {},
   "outputs": [
    {
     "data": {
      "text/plain": [
       "rev_Mean    1.0\n",
       "mou_Mean    1.0\n",
       "uniqsubs    1.0\n",
       "churn       1.0\n",
       "dtype: float64"
      ]
     },
     "execution_count": 21,
     "metadata": {},
     "output_type": "execute_result"
    }
   ],
   "source": [
    "df[num_vars].mean()\n",
    "df[num_vars].min()\n",
    "df[num_vars].max()"
   ]
  },
  {
   "cell_type": "code",
   "execution_count": 22,
   "metadata": {},
   "outputs": [
    {
     "data": {
      "text/plain": [
       "array([<AxesSubplot:title={'center':'rev_Mean'}>,\n",
       "       <AxesSubplot:title={'center':'mou_Mean'}>,\n",
       "       <AxesSubplot:title={'center':'uniqsubs'}>], dtype=object)"
      ]
     },
     "execution_count": 22,
     "metadata": {},
     "output_type": "execute_result"
    },
    {
     "data": {
      "image/png": "[encoded data removed]",
      "text/plain": [
       "<Figure size 5040x2520 with 3 Axes>"
      ]
     },
     "metadata": {
      "needs_background": "light"
     },
     "output_type": "display_data"
    }
   ],
   "source": [
    "\n",
    "fig, ax = plt.subplots(1, 3, figsize=(70, 35))\n",
    "df[df['churn'] == 1][num_vars[0:-1]].hist(bins = 25, \n",
    "  color = \"red\", ax=ax)\n",
    "df[df['churn'] == 0][num_vars[0:-1]].hist(bins = 25, \n",
    "  color = \"blue\", ax=ax)"
   ]
  },
  {
   "cell_type": "code",
   "execution_count": null,
   "metadata": {},
   "outputs": [],
   "source": []
  },
  {
   "cell_type": "markdown",
   "metadata": {},
   "source": [
    "# Principle component analysis\n"
   ]
  },
  {
   "cell_type": "code",
   "execution_count": null,
   "metadata": {},
   "outputs": [],
   "source": []
  },
  {
   "cell_type": "code",
   "execution_count": 23,
   "metadata": {},
   "outputs": [],
   "source": [
    "mydata = pd.read_csv(r\"C:\\Users\\Keara\\Downloads\\Intro_Data_Mining\\practise_data.csv\" , sep = ',')"
   ]
  },
  {
   "cell_type": "code",
   "execution_count": 24,
   "metadata": {},
   "outputs": [
    {
     "data": {
      "text/html": [
       "<div>\n",
       "<style scoped>\n",
       "    .dataframe tbody tr th:only-of-type {\n",
       "        vertical-align: middle;\n",
       "    }\n",
       "\n",
       "    .dataframe tbody tr th {\n",
       "        vertical-align: top;\n",
       "    }\n",
       "\n",
       "    .dataframe thead th {\n",
       "        text-align: right;\n",
       "    }\n",
       "</style>\n",
       "<table border=\"1\" class=\"dataframe\">\n",
       "  <thead>\n",
       "    <tr style=\"text-align: right;\">\n",
       "      <th></th>\n",
       "      <th>Customer_ID</th>\n",
       "      <th>rev_Mean</th>\n",
       "      <th>mou_Mean</th>\n",
       "      <th>uniqsubs</th>\n",
       "      <th>ethnic</th>\n",
       "      <th>creditcd</th>\n",
       "      <th>churn</th>\n",
       "    </tr>\n",
       "  </thead>\n",
       "  <tbody>\n",
       "    <tr>\n",
       "      <th>0</th>\n",
       "      <td>1000001</td>\n",
       "      <td>23.9975</td>\n",
       "      <td>219.25</td>\n",
       "      <td>2</td>\n",
       "      <td>N</td>\n",
       "      <td>Y</td>\n",
       "      <td>1</td>\n",
       "    </tr>\n",
       "    <tr>\n",
       "      <th>1</th>\n",
       "      <td>1000002</td>\n",
       "      <td>57.4925</td>\n",
       "      <td>482.75</td>\n",
       "      <td>1</td>\n",
       "      <td>Z</td>\n",
       "      <td>Y</td>\n",
       "      <td>0</td>\n",
       "    </tr>\n",
       "    <tr>\n",
       "      <th>2</th>\n",
       "      <td>1000003</td>\n",
       "      <td>16.9900</td>\n",
       "      <td>10.25</td>\n",
       "      <td>1</td>\n",
       "      <td>N</td>\n",
       "      <td>Y</td>\n",
       "      <td>1</td>\n",
       "    </tr>\n",
       "    <tr>\n",
       "      <th>3</th>\n",
       "      <td>1000004</td>\n",
       "      <td>38.0000</td>\n",
       "      <td>7.50</td>\n",
       "      <td>1</td>\n",
       "      <td>U</td>\n",
       "      <td>Y</td>\n",
       "      <td>0</td>\n",
       "    </tr>\n",
       "    <tr>\n",
       "      <th>4</th>\n",
       "      <td>1000005</td>\n",
       "      <td>55.2300</td>\n",
       "      <td>570.50</td>\n",
       "      <td>1</td>\n",
       "      <td>I</td>\n",
       "      <td>Y</td>\n",
       "      <td>0</td>\n",
       "    </tr>\n",
       "  </tbody>\n",
       "</table>\n",
       "</div>"
      ],
      "text/plain": [
       "   Customer_ID  rev_Mean  mou_Mean  uniqsubs ethnic creditcd  churn\n",
       "0      1000001   23.9975    219.25         2      N        Y      1\n",
       "1      1000002   57.4925    482.75         1      Z        Y      0\n",
       "2      1000003   16.9900     10.25         1      N        Y      1\n",
       "3      1000004   38.0000      7.50         1      U        Y      0\n",
       "4      1000005   55.2300    570.50         1      I        Y      0"
      ]
     },
     "execution_count": 24,
     "metadata": {},
     "output_type": "execute_result"
    }
   ],
   "source": [
    "mydata.head()"
   ]
  },
  {
   "cell_type": "code",
   "execution_count": 25,
   "metadata": {},
   "outputs": [
    {
     "data": {
      "text/html": [
       "<div>\n",
       "<style scoped>\n",
       "    .dataframe tbody tr th:only-of-type {\n",
       "        vertical-align: middle;\n",
       "    }\n",
       "\n",
       "    .dataframe tbody tr th {\n",
       "        vertical-align: top;\n",
       "    }\n",
       "\n",
       "    .dataframe thead th {\n",
       "        text-align: right;\n",
       "    }\n",
       "</style>\n",
       "<table border=\"1\" class=\"dataframe\">\n",
       "  <thead>\n",
       "    <tr style=\"text-align: right;\">\n",
       "      <th></th>\n",
       "      <th>Customer_ID</th>\n",
       "      <th>rev_Mean</th>\n",
       "      <th>mou_Mean</th>\n",
       "      <th>uniqsubs</th>\n",
       "      <th>churn</th>\n",
       "    </tr>\n",
       "  </thead>\n",
       "  <tbody>\n",
       "    <tr>\n",
       "      <th>count</th>\n",
       "      <td>1.000000e+03</td>\n",
       "      <td>997.000000</td>\n",
       "      <td>997.000000</td>\n",
       "      <td>1000.000000</td>\n",
       "      <td>1000.000000</td>\n",
       "    </tr>\n",
       "    <tr>\n",
       "      <th>mean</th>\n",
       "      <td>1.000500e+06</td>\n",
       "      <td>78.721991</td>\n",
       "      <td>753.542711</td>\n",
       "      <td>1.684000</td>\n",
       "      <td>0.498000</td>\n",
       "    </tr>\n",
       "    <tr>\n",
       "      <th>std</th>\n",
       "      <td>2.888194e+02</td>\n",
       "      <td>58.683565</td>\n",
       "      <td>787.110771</td>\n",
       "      <td>1.051308</td>\n",
       "      <td>0.500246</td>\n",
       "    </tr>\n",
       "    <tr>\n",
       "      <th>min</th>\n",
       "      <td>1.000001e+06</td>\n",
       "      <td>4.750000</td>\n",
       "      <td>0.000000</td>\n",
       "      <td>1.000000</td>\n",
       "      <td>0.000000</td>\n",
       "    </tr>\n",
       "    <tr>\n",
       "      <th>25%</th>\n",
       "      <td>1.000251e+06</td>\n",
       "      <td>38.535000</td>\n",
       "      <td>155.750000</td>\n",
       "      <td>1.000000</td>\n",
       "      <td>0.000000</td>\n",
       "    </tr>\n",
       "    <tr>\n",
       "      <th>50%</th>\n",
       "      <td>1.000500e+06</td>\n",
       "      <td>66.460000</td>\n",
       "      <td>514.500000</td>\n",
       "      <td>1.000000</td>\n",
       "      <td>0.000000</td>\n",
       "    </tr>\n",
       "    <tr>\n",
       "      <th>75%</th>\n",
       "      <td>1.000750e+06</td>\n",
       "      <td>97.337500</td>\n",
       "      <td>1107.250000</td>\n",
       "      <td>2.000000</td>\n",
       "      <td>1.000000</td>\n",
       "    </tr>\n",
       "    <tr>\n",
       "      <th>max</th>\n",
       "      <td>1.001000e+06</td>\n",
       "      <td>559.790000</td>\n",
       "      <td>6336.250000</td>\n",
       "      <td>7.000000</td>\n",
       "      <td>1.000000</td>\n",
       "    </tr>\n",
       "  </tbody>\n",
       "</table>\n",
       "</div>"
      ],
      "text/plain": [
       "        Customer_ID    rev_Mean     mou_Mean     uniqsubs        churn\n",
       "count  1.000000e+03  997.000000   997.000000  1000.000000  1000.000000\n",
       "mean   1.000500e+06   78.721991   753.542711     1.684000     0.498000\n",
       "std    2.888194e+02   58.683565   787.110771     1.051308     0.500246\n",
       "min    1.000001e+06    4.750000     0.000000     1.000000     0.000000\n",
       "25%    1.000251e+06   38.535000   155.750000     1.000000     0.000000\n",
       "50%    1.000500e+06   66.460000   514.500000     1.000000     0.000000\n",
       "75%    1.000750e+06   97.337500  1107.250000     2.000000     1.000000\n",
       "max    1.001000e+06  559.790000  6336.250000     7.000000     1.000000"
      ]
     },
     "execution_count": 25,
     "metadata": {},
     "output_type": "execute_result"
    }
   ],
   "source": [
    "mydata.describe()"
   ]
  },
  {
   "cell_type": "code",
   "execution_count": 26,
   "metadata": {},
   "outputs": [
    {
     "name": "stdout",
     "output_type": "stream",
     "text": [
      "<class 'pandas.core.frame.DataFrame'>\n",
      "RangeIndex: 1000 entries, 0 to 999\n",
      "Data columns (total 7 columns):\n",
      " #   Column       Non-Null Count  Dtype  \n",
      "---  ------       --------------  -----  \n",
      " 0   Customer_ID  1000 non-null   int64  \n",
      " 1   rev_Mean     997 non-null    float64\n",
      " 2   mou_Mean     997 non-null    float64\n",
      " 3   uniqsubs     1000 non-null   int64  \n",
      " 4   ethnic       979 non-null    object \n",
      " 5   creditcd     979 non-null    object \n",
      " 6   churn        1000 non-null   int64  \n",
      "dtypes: float64(2), int64(3), object(2)\n",
      "memory usage: 54.8+ KB\n"
     ]
    }
   ],
   "source": [
    "mydata.info()"
   ]
  },
  {
   "cell_type": "code",
   "execution_count": 27,
   "metadata": {},
   "outputs": [
    {
     "name": "stdout",
     "output_type": "stream",
     "text": [
      "1000\n",
      "7\n",
      "(1000, 7)\n"
     ]
    }
   ],
   "source": [
    "print(mydata.shape[0]) #number of samples (rows, records) \n",
    "print(mydata.shape[1]) #number of features (variables, columns)\n",
    "print(mydata.shape) #number of features (variables, columns"
   ]
  },
  {
   "cell_type": "code",
   "execution_count": 28,
   "metadata": {},
   "outputs": [],
   "source": [
    "df = mydata.iloc[:, 1:mydata.shape[1]] #remove customer id"
   ]
  },
  {
   "cell_type": "code",
   "execution_count": 29,
   "metadata": {},
   "outputs": [
    {
     "data": {
      "text/html": [
       "<div>\n",
       "<style scoped>\n",
       "    .dataframe tbody tr th:only-of-type {\n",
       "        vertical-align: middle;\n",
       "    }\n",
       "\n",
       "    .dataframe tbody tr th {\n",
       "        vertical-align: top;\n",
       "    }\n",
       "\n",
       "    .dataframe thead th {\n",
       "        text-align: right;\n",
       "    }\n",
       "</style>\n",
       "<table border=\"1\" class=\"dataframe\">\n",
       "  <thead>\n",
       "    <tr style=\"text-align: right;\">\n",
       "      <th></th>\n",
       "      <th>rev_Mean</th>\n",
       "      <th>mou_Mean</th>\n",
       "      <th>uniqsubs</th>\n",
       "      <th>ethnic</th>\n",
       "      <th>creditcd</th>\n",
       "      <th>churn</th>\n",
       "    </tr>\n",
       "  </thead>\n",
       "  <tbody>\n",
       "    <tr>\n",
       "      <th>0</th>\n",
       "      <td>23.9975</td>\n",
       "      <td>219.25</td>\n",
       "      <td>2</td>\n",
       "      <td>N</td>\n",
       "      <td>Y</td>\n",
       "      <td>1</td>\n",
       "    </tr>\n",
       "    <tr>\n",
       "      <th>1</th>\n",
       "      <td>57.4925</td>\n",
       "      <td>482.75</td>\n",
       "      <td>1</td>\n",
       "      <td>Z</td>\n",
       "      <td>Y</td>\n",
       "      <td>0</td>\n",
       "    </tr>\n",
       "    <tr>\n",
       "      <th>2</th>\n",
       "      <td>16.9900</td>\n",
       "      <td>10.25</td>\n",
       "      <td>1</td>\n",
       "      <td>N</td>\n",
       "      <td>Y</td>\n",
       "      <td>1</td>\n",
       "    </tr>\n",
       "    <tr>\n",
       "      <th>3</th>\n",
       "      <td>38.0000</td>\n",
       "      <td>7.50</td>\n",
       "      <td>1</td>\n",
       "      <td>U</td>\n",
       "      <td>Y</td>\n",
       "      <td>0</td>\n",
       "    </tr>\n",
       "    <tr>\n",
       "      <th>4</th>\n",
       "      <td>55.2300</td>\n",
       "      <td>570.50</td>\n",
       "      <td>1</td>\n",
       "      <td>I</td>\n",
       "      <td>Y</td>\n",
       "      <td>0</td>\n",
       "    </tr>\n",
       "  </tbody>\n",
       "</table>\n",
       "</div>"
      ],
      "text/plain": [
       "   rev_Mean  mou_Mean  uniqsubs ethnic creditcd  churn\n",
       "0   23.9975    219.25         2      N        Y      1\n",
       "1   57.4925    482.75         1      Z        Y      0\n",
       "2   16.9900     10.25         1      N        Y      1\n",
       "3   38.0000      7.50         1      U        Y      0\n",
       "4   55.2300    570.50         1      I        Y      0"
      ]
     },
     "execution_count": 29,
     "metadata": {},
     "output_type": "execute_result"
    }
   ],
   "source": [
    "df.head()\n"
   ]
  },
  {
   "cell_type": "code",
   "execution_count": 30,
   "metadata": {},
   "outputs": [
    {
     "data": {
      "text/plain": [
       "3"
      ]
     },
     "execution_count": 30,
     "metadata": {},
     "output_type": "execute_result"
    }
   ],
   "source": [
    "#handling missing values\n",
    "#determine the numerical features\n",
    "#list down numerical features\n",
    "num_vars=list(df.loc[:,df.dtypes!='object'].columns[0:-1]) #churn column is discarded\n",
    "len(num_vars)"
   ]
  },
  {
   "cell_type": "code",
   "execution_count": 31,
   "metadata": {},
   "outputs": [
    {
     "data": {
      "text/plain": [
       "rev_Mean    3\n",
       "mou_Mean    3\n",
       "uniqsubs    0\n",
       "dtype: int64"
      ]
     },
     "execution_count": 31,
     "metadata": {},
     "output_type": "execute_result"
    }
   ],
   "source": [
    "df[num_vars].isnull().sum()"
   ]
  },
  {
   "cell_type": "code",
   "execution_count": 32,
   "metadata": {},
   "outputs": [
    {
     "data": {
      "text/plain": [
       "rev_Mean    0\n",
       "mou_Mean    0\n",
       "uniqsubs    0\n",
       "dtype: int64"
      ]
     },
     "execution_count": 32,
     "metadata": {},
     "output_type": "execute_result"
    }
   ],
   "source": [
    "#fill the numerical missing values with mean\n",
    "for var in num_vars:\n",
    "    df[var] = df[var].fillna(df[var].mean())\n",
    "\n",
    "df[num_vars].isnull().sum()"
   ]
  },
  {
   "cell_type": "code",
   "execution_count": 33,
   "metadata": {},
   "outputs": [
    {
     "data": {
      "text/plain": [
       "2"
      ]
     },
     "execution_count": 33,
     "metadata": {},
     "output_type": "execute_result"
    }
   ],
   "source": [
    "#missing value handling in categorical variables\n",
    "#histogram of categorical variables according to churn information\n",
    "cat_vars=list(df.loc[:,df.dtypes=='object'].columns)\n",
    "len(cat_vars)"
   ]
  },
  {
   "cell_type": "code",
   "execution_count": 34,
   "metadata": {},
   "outputs": [
    {
     "data": {
      "text/plain": [
       "ethnic      21\n",
       "creditcd    21\n",
       "dtype: int64"
      ]
     },
     "execution_count": 34,
     "metadata": {},
     "output_type": "execute_result"
    }
   ],
   "source": [
    "df[cat_vars].isnull().sum()"
   ]
  },
  {
   "cell_type": "code",
   "execution_count": 35,
   "metadata": {},
   "outputs": [
    {
     "data": {
      "text/plain": [
       "ethnic      0\n",
       "creditcd    0\n",
       "dtype: int64"
      ]
     },
     "execution_count": 35,
     "metadata": {},
     "output_type": "execute_result"
    }
   ],
   "source": [
    "from sklearn.impute import SimpleImputer\n",
    "\n",
    "myimputer2 = SimpleImputer(missing_values = np.nan, strategy = 'most_frequent')\n",
    "\n",
    "myimputer2 = myimputer2.fit(df[cat_vars])\n",
    "df[cat_vars] = myimputer2.transform(df[cat_vars])\n",
    "df[cat_vars].isnull().sum()"
   ]
  },
  {
   "cell_type": "code",
   "execution_count": 36,
   "metadata": {},
   "outputs": [
    {
     "data": {
      "image/png": "[encoded data removed]",
      "text/plain": [
       "<Figure size 1440x360 with 1 Axes>"
      ]
     },
     "metadata": {
      "needs_background": "light"
     },
     "output_type": "display_data"
    },
    {
     "data": {
      "image/png": "[encoded data removed]",
      "text/plain": [
       "<Figure size 1440x360 with 1 Axes>"
      ]
     },
     "metadata": {
      "needs_background": "light"
     },
     "output_type": "display_data"
    }
   ],
   "source": [
    "#display categorical data\n",
    "for col in cat_vars:   #show only first 5 variables as example\n",
    "    df.groupby([col, 'churn']).size().unstack().plot(kind='bar', stacked=False, figsize=(20,5))"
   ]
  },
  {
   "cell_type": "code",
   "execution_count": 37,
   "metadata": {},
   "outputs": [
    {
     "data": {
      "text/plain": [
       "array([<AxesSubplot:title={'center':'rev_Mean'}>,\n",
       "       <AxesSubplot:title={'center':'mou_Mean'}>,\n",
       "       <AxesSubplot:title={'center':'uniqsubs'}>], dtype=object)"
      ]
     },
     "execution_count": 37,
     "metadata": {},
     "output_type": "execute_result"
    },
    {
     "data": {
      "image/png": "[encoded data removed]",
      "text/plain": [
       "<Figure size 5040x2520 with 3 Axes>"
      ]
     },
     "metadata": {
      "needs_background": "light"
     },
     "output_type": "display_data"
    }
   ],
   "source": [
    "import matplotlib.pyplot as plt\n",
    "\n",
    "#histogram of numerical variables according to churn information\n",
    "#the first 20 variables\n",
    "fig, ax = plt.subplots(1, 3, figsize=(70, 35))\n",
    "df[df['churn'] == 1][num_vars[0:]].hist(bins=10, color=\"red\", alpha=0.7, ax=ax)\n",
    "df[df['churn'] == 0][num_vars[0:]].hist(bins=10, color=\"green\", alpha=0.7, ax=ax)"
   ]
  },
  {
   "cell_type": "code",
   "execution_count": 38,
   "metadata": {},
   "outputs": [
    {
     "data": {
      "text/plain": [
       "churn       1.000000\n",
       "mou_Mean    0.182679\n",
       "rev_Mean    0.154802\n",
       "uniqsubs    0.015611\n",
       "Name: churn, dtype: float64"
      ]
     },
     "execution_count": 38,
     "metadata": {},
     "output_type": "execute_result"
    }
   ],
   "source": [
    "#calculate spearman correlations between numerical variables and churn information\n",
    "#spearman does not make normality assumption and it can capture non-linear relations also\n",
    "corrs = df.corr(method='spearman')['churn']\n",
    "\n",
    "abs(corrs).sort_values(ascending = False)\n"
   ]
  },
  {
   "cell_type": "code",
   "execution_count": 39,
   "metadata": {},
   "outputs": [],
   "source": [
    "#standardization\n",
    "from sklearn.preprocessing import StandardScaler\n",
    "\n",
    "myscaler = StandardScaler()\n",
    "myscaler = myscaler.fit(df[num_vars])\n",
    "df[num_vars] = myscaler.transform(df[num_vars])"
   ]
  },
  {
   "cell_type": "code",
   "execution_count": 40,
   "metadata": {},
   "outputs": [],
   "source": [
    "#mutual information \n",
    "from sklearn.metrics import mutual_info_score\n",
    "from sklearn.feature_selection import mutual_info_regression\n",
    "\n",
    "#mutual information score for categorical variables\n",
    "m_info_scores = np.empty(len(cat_vars))\n",
    "count = 0\n",
    "for n in cat_vars:\n",
    "    m_info_scores[count] = mutual_info_score(df['churn'], df[n])\n",
    "    count = count + 1"
   ]
  },
  {
   "cell_type": "code",
   "execution_count": 41,
   "metadata": {},
   "outputs": [
    {
     "name": "stdout",
     "output_type": "stream",
     "text": [
      "[0.00776729 0.00068772]\n"
     ]
    }
   ],
   "source": [
    "print(m_info_scores)    \n",
    "top_cat_variables = np.flip((m_info_scores.argsort()))\n",
    "#sel_cat_vars = top_variables[0:4]\n",
    "#sel_cat_vars_list = np.ndarray.tolist(df.columns.values[sel_cat_vars])\n",
    "    \n",
    "#mutual information for numerical variables\n",
    "\n",
    "mut_info_num_vars = mutual_info_regression(df[num_vars], df['churn'], n_neighbors=5)\n",
    "\n",
    "top_num_variables = np.flip(mut_info_num_vars.argsort())"
   ]
  },
  {
   "cell_type": "code",
   "execution_count": 42,
   "metadata": {},
   "outputs": [],
   "source": [
    "#dimensionality reduction with PCA\n",
    "from sklearn.decomposition import PCA\n",
    "\n",
    "mypca = PCA(n_components=2) #number of components between 0 and 1\n",
    "                            #amount of variance taht will be kept is given\n",
    "\n",
    "#If ``0 < n_components < 1`` and ``svd_solver == 'full'``, select the\n",
    "#number of components such that the amount of variance that needs to be\n",
    "#explained is greater than the percentage specified by n_components.\n",
    "#mypca = PCA(n_components=0.75) #number of components between 0 and 1\n",
    "                            #amount of variance taht will be kept is given\n",
    "                            \n",
    "    \n",
    "pca_obj = mypca.fit(df[num_vars])"
   ]
  },
  {
   "cell_type": "code",
   "execution_count": 43,
   "metadata": {},
   "outputs": [
    {
     "name": "stdout",
     "output_type": "stream",
     "text": [
      "[0.62041632 0.32095743]\n",
      "0.9413737529306451\n"
     ]
    }
   ],
   "source": [
    "print(mypca.explained_variance_ratio_)\n",
    "print(sum(mypca.explained_variance_ratio_))\n",
    "\n",
    "pca_features = mypca.transform(df[num_vars])"
   ]
  },
  {
   "cell_type": "code",
   "execution_count": 45,
   "metadata": {},
   "outputs": [
    {
     "data": {
      "text/plain": [
       "[<matplotlib.lines.Line2D at 0x23df42e46a0>]"
      ]
     },
     "execution_count": 45,
     "metadata": {},
     "output_type": "execute_result"
    },
    {
     "data": {
      "image/png": "[encoded data removed]",
      "text/plain": [
       "<Figure size 432x288 with 1 Axes>"
      ]
     },
     "metadata": {
      "needs_background": "light"
     },
     "output_type": "display_data"
    }
   ],
   "source": [
    "pca_df = pd.DataFrame(data = pca_features, columns = ['pca1', 'pca2'])\n",
    "\n",
    "plt.plot(pca_df['pca1'], pca_df['pca2'], 'ro')\n",
    "\n",
    "\n"
   ]
  },
  {
   "cell_type": "code",
   "execution_count": 46,
   "metadata": {},
   "outputs": [
    {
     "data": {
      "text/plain": [
       "[<matplotlib.lines.Line2D at 0x23df4346850>]"
      ]
     },
     "execution_count": 46,
     "metadata": {},
     "output_type": "execute_result"
    },
    {
     "data": {
      "image/png": "[encoded data removed]",
      "text/plain": [
       "<Figure size 432x288 with 1 Axes>"
      ]
     },
     "metadata": {
      "needs_background": "light"
     },
     "output_type": "display_data"
    }
   ],
   "source": [
    "#plot each class separately\n",
    "plt.plot(pca_df.loc[df['churn']==1, 'pca1'], pca_df.loc[df['churn']==1, 'pca2'], 'ro')\n",
    "plt.plot(pca_df.loc[df['churn']==0, 'pca1'], pca_df.loc[df['churn']==0, 'pca2'], 'bx')"
   ]
  },
  {
   "cell_type": "code",
   "execution_count": 47,
   "metadata": {},
   "outputs": [],
   "source": [
    "#data frame without numerical features\n",
    "df_temp = df.drop(num_vars, axis = 1)\n",
    "\n",
    "#combine pca features with categorical variables\n",
    "frames = [pca_df, df_temp]\n",
    "\n",
    "df_all = pd.concat([pca_df, df_temp], axis=1, sort=False)"
   ]
  },
  {
   "cell_type": "code",
   "execution_count": 48,
   "metadata": {},
   "outputs": [
    {
     "data": {
      "text/html": [
       "<div>\n",
       "<style scoped>\n",
       "    .dataframe tbody tr th:only-of-type {\n",
       "        vertical-align: middle;\n",
       "    }\n",
       "\n",
       "    .dataframe tbody tr th {\n",
       "        vertical-align: top;\n",
       "    }\n",
       "\n",
       "    .dataframe thead th {\n",
       "        text-align: right;\n",
       "    }\n",
       "</style>\n",
       "<table border=\"1\" class=\"dataframe\">\n",
       "  <thead>\n",
       "    <tr style=\"text-align: right;\">\n",
       "      <th></th>\n",
       "      <th>pca1</th>\n",
       "      <th>pca2</th>\n",
       "      <th>ethnic</th>\n",
       "      <th>creditcd</th>\n",
       "      <th>churn</th>\n",
       "    </tr>\n",
       "  </thead>\n",
       "  <tbody>\n",
       "    <tr>\n",
       "      <th>0</th>\n",
       "      <td>-1.056141</td>\n",
       "      <td>0.529880</td>\n",
       "      <td>N</td>\n",
       "      <td>Y</td>\n",
       "      <td>1</td>\n",
       "    </tr>\n",
       "    <tr>\n",
       "      <th>1</th>\n",
       "      <td>-0.622231</td>\n",
       "      <td>-0.535079</td>\n",
       "      <td>Z</td>\n",
       "      <td>Y</td>\n",
       "      <td>0</td>\n",
       "    </tr>\n",
       "    <tr>\n",
       "      <th>2</th>\n",
       "      <td>-1.517279</td>\n",
       "      <td>-0.347727</td>\n",
       "      <td>N</td>\n",
       "      <td>Y</td>\n",
       "      <td>1</td>\n",
       "    </tr>\n",
       "    <tr>\n",
       "      <th>3</th>\n",
       "      <td>-1.271749</td>\n",
       "      <td>-0.402929</td>\n",
       "      <td>U</td>\n",
       "      <td>Y</td>\n",
       "      <td>0</td>\n",
       "    </tr>\n",
       "    <tr>\n",
       "      <th>4</th>\n",
       "      <td>-0.571481</td>\n",
       "      <td>-0.543949</td>\n",
       "      <td>I</td>\n",
       "      <td>Y</td>\n",
       "      <td>0</td>\n",
       "    </tr>\n",
       "    <tr>\n",
       "      <th>5</th>\n",
       "      <td>0.596358</td>\n",
       "      <td>0.190324</td>\n",
       "      <td>U</td>\n",
       "      <td>Y</td>\n",
       "      <td>0</td>\n",
       "    </tr>\n",
       "    <tr>\n",
       "      <th>6</th>\n",
       "      <td>-1.330530</td>\n",
       "      <td>0.585175</td>\n",
       "      <td>N</td>\n",
       "      <td>Y</td>\n",
       "      <td>1</td>\n",
       "    </tr>\n",
       "    <tr>\n",
       "      <th>7</th>\n",
       "      <td>-0.675353</td>\n",
       "      <td>-0.517407</td>\n",
       "      <td>S</td>\n",
       "      <td>Y</td>\n",
       "      <td>0</td>\n",
       "    </tr>\n",
       "    <tr>\n",
       "      <th>8</th>\n",
       "      <td>0.338978</td>\n",
       "      <td>-0.734876</td>\n",
       "      <td>F</td>\n",
       "      <td>N</td>\n",
       "      <td>0</td>\n",
       "    </tr>\n",
       "    <tr>\n",
       "      <th>9</th>\n",
       "      <td>-1.136689</td>\n",
       "      <td>0.542390</td>\n",
       "      <td>N</td>\n",
       "      <td>Y</td>\n",
       "      <td>0</td>\n",
       "    </tr>\n",
       "  </tbody>\n",
       "</table>\n",
       "</div>"
      ],
      "text/plain": [
       "       pca1      pca2 ethnic creditcd  churn\n",
       "0 -1.056141  0.529880      N        Y      1\n",
       "1 -0.622231 -0.535079      Z        Y      0\n",
       "2 -1.517279 -0.347727      N        Y      1\n",
       "3 -1.271749 -0.402929      U        Y      0\n",
       "4 -0.571481 -0.543949      I        Y      0\n",
       "5  0.596358  0.190324      U        Y      0\n",
       "6 -1.330530  0.585175      N        Y      1\n",
       "7 -0.675353 -0.517407      S        Y      0\n",
       "8  0.338978 -0.734876      F        N      0\n",
       "9 -1.136689  0.542390      N        Y      0"
      ]
     },
     "execution_count": 48,
     "metadata": {},
     "output_type": "execute_result"
    }
   ],
   "source": [
    "df_all.head(10)"
   ]
  },
  {
   "cell_type": "code",
   "execution_count": null,
   "metadata": {},
   "outputs": [],
   "source": []
  }
 ],
 "metadata": {
  "kernelspec": {
   "display_name": "Python 3",
   "language": "python",
   "name": "python3"
  },
  "language_info": {
   "codemirror_mode": {
    "name": "ipython",
    "version": 3
   },
   "file_extension": ".py",
   "mimetype": "text/x-python",
   "name": "python",
   "nbconvert_exporter": "python",
   "pygments_lexer": "ipython3",
   "version": "3.8.5"
  }
 },
 "nbformat": 4,
 "nbformat_minor": 4
}
